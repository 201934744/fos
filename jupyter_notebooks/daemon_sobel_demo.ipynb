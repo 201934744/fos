{
 "cells": [
  {
   "cell_type": "code",
   "execution_count": 1,
   "metadata": {},
   "outputs": [],
   "source": [
    "from IPython.display import Image\n",
    "\n",
    "import sys\n",
    "sys.path.append(\"/home/xilinx/fos/\")\n",
    "\n",
    "import udmalib.udma as udma\n",
    "import cv2, numpy as np\n",
    "import proto.fpga_rpc_c as fpga_rpc_client"
   ]
  },
  {
   "cell_type": "code",
   "execution_count": 4,
   "metadata": {},
   "outputs": [],
   "source": [
    "inputfile = \"/home/xilinx/fos/clients/simple_cpp/eiffel.jpg\""
   ]
  },
  {
   "cell_type": "code",
   "execution_count": null,
   "metadata": {},
   "outputs": [],
   "source": [
    "# bit hacking functions for driving unit\n",
    "int32max = (1 << 32) - 1\n",
    "def top32(data): return int((data >> 32) & int32max)\n",
    "def bot32(data): return int(data & int32max)\n",
    " \n",
    "# allocate a buffer\n",
    "ubuffers = udma.udmas()\n",
    "fpga_rpc = fpga_rpc_client.Client()\n",
    "bufno = fpga_rpc.Alloc()\n",
    "if (bufno < 0): raise \"could not allocate buffers\"\n",
    "ubuffer = ubuffers.getDevice(bufno)\n",
    "buffer = ubuffer.map()\n",
    " \n",
    "# read in images\n",
    "input = cv2.imread(inputfile, cv2.IMREAD_GRAYSCALE)\n",
    "height = input.shape[0]\n",
    "width = input.shape[1]\n",
    "size = width*height\n",
    " \n",
    "# calculate pointers\n",
    "buf0addr = ubuffer.phys_addr\n",
    "buf1addr = ubuffer.phys_addr + size\n",
    " \n",
    "for y in range(height):\n",
    "    for x in range(width):\n",
    "        buffer[y*width+x] = input[y, x]\n",
    "\n",
    "# run hardware unit\n",
    "fpga_rpc.Run([{\n",
    "    \"name\": \"Partial_sobel\",\n",
    "    \"params\": {\n",
    "        \"in_pixels\":      bot32(buf0addr),\n",
    "        \"in_pixels_msb\":  top32(buf0addr),\n",
    "        \"out_pixels\":     bot32(buf1addr),\n",
    "        \"out_pixels_msb\": top32(buf1addr),\n",
    "        \"im_width\":       width,\n",
    "        \"im_height\":      height\n",
    "    }\n",
    "}]*10)\n",
    " \n",
    "# write output to file\n",
    "output = np.zeros(input.shape, dtype=input.dtype)\n",
    "for y in range(height):\n",
    "    for x in range(width):\n",
    "        output[y, x] = buffer[size + y*width+x]\n",
    "cv2.imwrite(\"sobel_out.jpg\", output)\n",
    "\n",
    "fpga_rpc.Free(bufno)\n",
    "\n",
    "Image(\"sobel_out.jpg\")\n"
   ]
  },
  {
   "cell_type": "code",
   "execution_count": null,
   "metadata": {},
   "outputs": [],
   "source": []
  }
 ],
 "metadata": {
  "kernelspec": {
   "display_name": "Python 3",
   "language": "python",
   "name": "python3"
  },
  "language_info": {
   "codemirror_mode": {
    "name": "ipython",
    "version": 3
   },
   "file_extension": ".py",
   "mimetype": "text/x-python",
   "name": "python",
   "nbconvert_exporter": "python",
   "pygments_lexer": "ipython3",
   "version": "3.6.5"
  }
 },
 "nbformat": 4,
 "nbformat_minor": 2
}
